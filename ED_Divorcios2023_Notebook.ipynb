{
 "cells": [
  {
   "cell_type": "markdown",
   "id": "785ae746",
   "metadata": {},
   "source": [
    "# **Regresión Logistica: Estadísticas de Divorcio (INEGI, 2023)**"
   ]
  },
  {
   "cell_type": "markdown",
   "id": "5d92d97f",
   "metadata": {},
   "source": [
    "Carlos Hernández Márquez\n",
    "\n",
    "\"Doy mi palabra que he realizado esta actividad con integridad académica\""
   ]
  },
  {
   "cell_type": "markdown",
   "id": "500c5d19",
   "metadata": {},
   "source": [
    "# **Importación de datos y definición de la variable de salida**"
   ]
  },
  {
   "cell_type": "markdown",
   "id": "9b16ff45",
   "metadata": {},
   "source": [
    "Se cargó la base **`Estadísticas_divorcios_Mexico_2023_P1.csv`** en un DataFrame de pandas.  \n",
    "La base contiene **155 columnas** y múltiples registros relacionados con las estadísticas de divorcio en México.  \n",
    "La dimensión de la base (`df.shape`), confirmando la estructura completa de filas y columnas disponibles."
   ]
  },
  {
   "cell_type": "code",
   "execution_count": 46,
   "id": "361db9a0",
   "metadata": {},
   "outputs": [
    {
     "data": {
      "text/html": [
       "<div>\n",
       "<style scoped>\n",
       "    .dataframe tbody tr th:only-of-type {\n",
       "        vertical-align: middle;\n",
       "    }\n",
       "\n",
       "    .dataframe tbody tr th {\n",
       "        vertical-align: top;\n",
       "    }\n",
       "\n",
       "    .dataframe thead th {\n",
       "        text-align: right;\n",
       "    }\n",
       "</style>\n",
       "<table border=\"1\" class=\"dataframe\">\n",
       "  <thead>\n",
       "    <tr style=\"text-align: right;\">\n",
       "      <th></th>\n",
       "      <th>hijos</th>\n",
       "      <th>cus_hij</th>\n",
       "      <th>edad_div1</th>\n",
       "      <th>edad_div2</th>\n",
       "      <th>dura_leg</th>\n",
       "      <th>misma_entidad</th>\n",
       "      <th>mismo_municipio</th>\n",
       "      <th>mismo_sexo</th>\n",
       "      <th>misma_nacionalidad</th>\n",
       "      <th>misma_tloc</th>\n",
       "      <th>...</th>\n",
       "      <th>anio_reg_2014.0</th>\n",
       "      <th>anio_reg_2015.0</th>\n",
       "      <th>anio_reg_2016.0</th>\n",
       "      <th>anio_reg_2017.0</th>\n",
       "      <th>anio_reg_2018.0</th>\n",
       "      <th>anio_reg_2019.0</th>\n",
       "      <th>anio_reg_2020.0</th>\n",
       "      <th>anio_reg_2021.0</th>\n",
       "      <th>anio_reg_2022.0</th>\n",
       "      <th>anio_reg_2023.0</th>\n",
       "    </tr>\n",
       "  </thead>\n",
       "  <tbody>\n",
       "    <tr>\n",
       "      <th>0</th>\n",
       "      <td>4</td>\n",
       "      <td>2</td>\n",
       "      <td>41.0</td>\n",
       "      <td>42.0</td>\n",
       "      <td>18.0</td>\n",
       "      <td>True</td>\n",
       "      <td>True</td>\n",
       "      <td>False</td>\n",
       "      <td>True</td>\n",
       "      <td>True</td>\n",
       "      <td>...</td>\n",
       "      <td>False</td>\n",
       "      <td>False</td>\n",
       "      <td>False</td>\n",
       "      <td>False</td>\n",
       "      <td>False</td>\n",
       "      <td>False</td>\n",
       "      <td>False</td>\n",
       "      <td>False</td>\n",
       "      <td>True</td>\n",
       "      <td>False</td>\n",
       "    </tr>\n",
       "    <tr>\n",
       "      <th>1</th>\n",
       "      <td>2</td>\n",
       "      <td>2</td>\n",
       "      <td>30.0</td>\n",
       "      <td>29.0</td>\n",
       "      <td>18.0</td>\n",
       "      <td>True</td>\n",
       "      <td>True</td>\n",
       "      <td>False</td>\n",
       "      <td>True</td>\n",
       "      <td>True</td>\n",
       "      <td>...</td>\n",
       "      <td>False</td>\n",
       "      <td>False</td>\n",
       "      <td>False</td>\n",
       "      <td>False</td>\n",
       "      <td>False</td>\n",
       "      <td>False</td>\n",
       "      <td>False</td>\n",
       "      <td>False</td>\n",
       "      <td>False</td>\n",
       "      <td>True</td>\n",
       "    </tr>\n",
       "    <tr>\n",
       "      <th>2</th>\n",
       "      <td>0</td>\n",
       "      <td>0</td>\n",
       "      <td>68.0</td>\n",
       "      <td>42.0</td>\n",
       "      <td>56.0</td>\n",
       "      <td>True</td>\n",
       "      <td>True</td>\n",
       "      <td>False</td>\n",
       "      <td>True</td>\n",
       "      <td>True</td>\n",
       "      <td>...</td>\n",
       "      <td>False</td>\n",
       "      <td>False</td>\n",
       "      <td>False</td>\n",
       "      <td>False</td>\n",
       "      <td>False</td>\n",
       "      <td>False</td>\n",
       "      <td>False</td>\n",
       "      <td>False</td>\n",
       "      <td>True</td>\n",
       "      <td>False</td>\n",
       "    </tr>\n",
       "    <tr>\n",
       "      <th>3</th>\n",
       "      <td>5</td>\n",
       "      <td>0</td>\n",
       "      <td>70.0</td>\n",
       "      <td>73.0</td>\n",
       "      <td>54.0</td>\n",
       "      <td>True</td>\n",
       "      <td>True</td>\n",
       "      <td>False</td>\n",
       "      <td>True</td>\n",
       "      <td>True</td>\n",
       "      <td>...</td>\n",
       "      <td>False</td>\n",
       "      <td>False</td>\n",
       "      <td>False</td>\n",
       "      <td>False</td>\n",
       "      <td>False</td>\n",
       "      <td>False</td>\n",
       "      <td>False</td>\n",
       "      <td>False</td>\n",
       "      <td>True</td>\n",
       "      <td>False</td>\n",
       "    </tr>\n",
       "    <tr>\n",
       "      <th>4</th>\n",
       "      <td>4</td>\n",
       "      <td>0</td>\n",
       "      <td>75.0</td>\n",
       "      <td>72.0</td>\n",
       "      <td>54.0</td>\n",
       "      <td>False</td>\n",
       "      <td>False</td>\n",
       "      <td>False</td>\n",
       "      <td>True</td>\n",
       "      <td>True</td>\n",
       "      <td>...</td>\n",
       "      <td>False</td>\n",
       "      <td>False</td>\n",
       "      <td>False</td>\n",
       "      <td>False</td>\n",
       "      <td>False</td>\n",
       "      <td>False</td>\n",
       "      <td>False</td>\n",
       "      <td>False</td>\n",
       "      <td>False</td>\n",
       "      <td>True</td>\n",
       "    </tr>\n",
       "  </tbody>\n",
       "</table>\n",
       "<p>5 rows × 155 columns</p>\n",
       "</div>"
      ],
      "text/plain": [
       "   hijos  cus_hij  edad_div1  edad_div2  dura_leg  misma_entidad  \\\n",
       "0      4        2       41.0       42.0      18.0           True   \n",
       "1      2        2       30.0       29.0      18.0           True   \n",
       "2      0        0       68.0       42.0      56.0           True   \n",
       "3      5        0       70.0       73.0      54.0           True   \n",
       "4      4        0       75.0       72.0      54.0          False   \n",
       "\n",
       "   mismo_municipio  mismo_sexo  misma_nacionalidad  misma_tloc  ...  \\\n",
       "0             True       False                True        True  ...   \n",
       "1             True       False                True        True  ...   \n",
       "2             True       False                True        True  ...   \n",
       "3             True       False                True        True  ...   \n",
       "4            False       False                True        True  ...   \n",
       "\n",
       "   anio_reg_2014.0  anio_reg_2015.0  anio_reg_2016.0  anio_reg_2017.0  \\\n",
       "0            False            False            False            False   \n",
       "1            False            False            False            False   \n",
       "2            False            False            False            False   \n",
       "3            False            False            False            False   \n",
       "4            False            False            False            False   \n",
       "\n",
       "   anio_reg_2018.0  anio_reg_2019.0  anio_reg_2020.0  anio_reg_2021.0  \\\n",
       "0            False            False            False            False   \n",
       "1            False            False            False            False   \n",
       "2            False            False            False            False   \n",
       "3            False            False            False            False   \n",
       "4            False            False            False            False   \n",
       "\n",
       "   anio_reg_2022.0  anio_reg_2023.0  \n",
       "0             True            False  \n",
       "1            False             True  \n",
       "2             True            False  \n",
       "3             True            False  \n",
       "4            False             True  \n",
       "\n",
       "[5 rows x 155 columns]"
      ]
     },
     "metadata": {},
     "output_type": "display_data"
    },
    {
     "data": {
      "text/plain": [
       "(156669, 155)"
      ]
     },
     "metadata": {},
     "output_type": "display_data"
    }
   ],
   "source": [
    "import pandas as pd\n",
    "\n",
    "df = pd.read_csv(\"Estadisticas_divorcios_Mexico_2023_P1.csv\")\n",
    "\n",
    "display(df.head())\n",
    "display(df.shape)"
   ]
  },
  {
   "cell_type": "markdown",
   "id": "eadab10a",
   "metadata": {},
   "source": [
    "El dataset fue cargado exitosamente, con un número amplio de variables (155), lo que permitirá realizar procesos de selección de características más adelante. La variable de interés `dura_leg` (duración legal del matrimonio) está presente y será la base para la creación de la variable binaria de salida en el siguiente paso."
   ]
  },
  {
   "cell_type": "markdown",
   "id": "47fc2f32",
   "metadata": {},
   "source": [
    "La binarizamos con el criterio:\n",
    "- `dura_leg_bin = 1` si `dura_leg` > promedio de `dura_leg` (en el conjunto disponible).\n",
    "- `dura_leg_bin = 0` en otro caso.\n",
    "\n",
    "También limpiamos `dura_leg` a numérico, removemos nulos en esa columna, y reportamos el promedio y el balance de clases.\n"
   ]
  },
  {
   "cell_type": "code",
   "execution_count": 47,
   "id": "f5dc8715",
   "metadata": {},
   "outputs": [
    {
     "name": "stdout",
     "output_type": "stream",
     "text": [
      "Nulos en 'dura_leg' antes de limpiar: 0\n",
      "Promedio de 'dura_leg': 16.6909\n"
     ]
    },
    {
     "data": {
      "text/html": [
       "<div>\n",
       "<style scoped>\n",
       "    .dataframe tbody tr th:only-of-type {\n",
       "        vertical-align: middle;\n",
       "    }\n",
       "\n",
       "    .dataframe tbody tr th {\n",
       "        vertical-align: top;\n",
       "    }\n",
       "\n",
       "    .dataframe thead th {\n",
       "        text-align: right;\n",
       "    }\n",
       "</style>\n",
       "<table border=\"1\" class=\"dataframe\">\n",
       "  <thead>\n",
       "    <tr style=\"text-align: right;\">\n",
       "      <th></th>\n",
       "      <th>dura_leg</th>\n",
       "      <th>dura_leg_bin</th>\n",
       "    </tr>\n",
       "  </thead>\n",
       "  <tbody>\n",
       "    <tr>\n",
       "      <th>0</th>\n",
       "      <td>18.0</td>\n",
       "      <td>1</td>\n",
       "    </tr>\n",
       "    <tr>\n",
       "      <th>1</th>\n",
       "      <td>18.0</td>\n",
       "      <td>1</td>\n",
       "    </tr>\n",
       "    <tr>\n",
       "      <th>2</th>\n",
       "      <td>56.0</td>\n",
       "      <td>1</td>\n",
       "    </tr>\n",
       "    <tr>\n",
       "      <th>3</th>\n",
       "      <td>54.0</td>\n",
       "      <td>1</td>\n",
       "    </tr>\n",
       "    <tr>\n",
       "      <th>4</th>\n",
       "      <td>54.0</td>\n",
       "      <td>1</td>\n",
       "    </tr>\n",
       "  </tbody>\n",
       "</table>\n",
       "</div>"
      ],
      "text/plain": [
       "   dura_leg  dura_leg_bin\n",
       "0      18.0             1\n",
       "1      18.0             1\n",
       "2      56.0             1\n",
       "3      54.0             1\n",
       "4      54.0             1"
      ]
     },
     "metadata": {},
     "output_type": "display_data"
    },
    {
     "name": "stdout",
     "output_type": "stream",
     "text": [
      "\n",
      "Conteo por clase en 'dura_leg_bin':\n",
      "Clase 0: 86450 observaciones (55.18%)\n",
      "Clase 1: 70219 observaciones (44.82%)\n",
      "\n",
      "Variable de salida definida: dura_leg_bin\n"
     ]
    }
   ],
   "source": [
    "import numpy as np\n",
    "\n",
    "n_nulos = df['dura_leg'].isna().sum()\n",
    "print(f\"Nulos en 'dura_leg' antes de limpiar: {n_nulos}\")\n",
    "df = df.dropna(subset=['dura_leg']).copy()\n",
    "\n",
    "mean_dura_leg = df['dura_leg'].mean()\n",
    "print(f\"Promedio de 'dura_leg': {mean_dura_leg:.4f}\")\n",
    "\n",
    "df['dura_leg_bin'] = (df['dura_leg'] > mean_dura_leg).astype(int)\n",
    "\n",
    "display(df[['dura_leg', 'dura_leg_bin']].head())\n",
    "\n",
    "counts = df['dura_leg_bin'].value_counts().sort_index()\n",
    "props = df['dura_leg_bin'].value_counts(normalize=True).sort_index()\n",
    "\n",
    "print(\"\\nConteo por clase en 'dura_leg_bin':\")\n",
    "for cls in [0, 1]:\n",
    "    c = int(counts.get(cls, 0))\n",
    "    p = props.get(cls, 0.0)\n",
    "    print(f\"Clase {cls}: {c} observaciones ({p:.2%})\")\n",
    "\n",
    "y_col = 'dura_leg_bin'\n",
    "print(f\"\\nVariable de salida definida: {y_col}\")\n"
   ]
  },
  {
   "cell_type": "markdown",
   "id": "567f26e7",
   "metadata": {},
   "source": [
    "La variable binaria de salida quedó bien definida y mantiene un **balance relativamente adecuado** (55% vs 45%). Esto es importante porque evita un sesgo fuerte hacia una de las clases en la fase de modelado. La variable `dura_leg_bin` será la salida a predecir en los siguientes pasos.\n"
   ]
  },
  {
   "cell_type": "markdown",
   "id": "f7188c16",
   "metadata": {},
   "source": [
    "## **División del conjunto de datos en entrenamiento y prueba (80/20)**"
   ]
  },
  {
   "cell_type": "markdown",
   "id": "8940fecc",
   "metadata": {},
   "source": [
    "Se dividió el conjunto de datos en dos subconjuntos:  \n",
    "- **Entrenamiento (80%)**  \n",
    "- **Prueba (20%)**  \n",
    "\n",
    "Para evitar sesgos en la proporción de clases, se utilizó el parámetro `stratify=y` dentro de `train_test_split`, de forma que se mantuviera el mismo balance observado en los datos originales."
   ]
  },
  {
   "cell_type": "code",
   "execution_count": null,
   "id": "1248ae4c",
   "metadata": {},
   "outputs": [
    {
     "name": "stdout",
     "output_type": "stream",
     "text": [
      "\n",
      "Proporción de clases en datos originales:\n",
      "Clase 0: 55.18%\n",
      "Clase 1: 44.82%\n",
      "\n",
      "Proporción de clases en entrenamiento:\n",
      "Clase 0: 55.18%\n",
      "Clase 1: 44.82%\n",
      "\n",
      "Proporción de clases en prueba:\n",
      "Clase 0: 55.18%\n",
      "Clase 1: 44.82%\n"
     ]
    }
   ],
   "source": [
    "from sklearn.model_selection import train_test_split\n",
    "\n",
    "y = df['dura_leg_bin']\n",
    "X = df.drop(columns=['dura_leg_bin', 'dura_leg'])\n",
    "\n",
    "\n",
    "x_train, x_test, y_train, y_test = train_test_split(\n",
    "    X, y, test_size=0.2, random_state=42, stratify=y\n",
    ")\n",
    "\n",
    "def print_proportions(y, name=\"\"):\n",
    "    counts = y.value_counts(normalize=True).sort_index()\n",
    "    print(f\"\\nProporción de clases en {name}:\")\n",
    "    for cls, prop in counts.items():\n",
    "        print(f\"Clase {cls}: {prop:.2%}\")\n",
    "\n",
    "print_proportions(y, \"datos originales\")\n",
    "print_proportions(y_train, \"entrenamiento\")\n",
    "print_proportions(y_test, \"prueba\")\n"
   ]
  },
  {
   "cell_type": "markdown",
   "id": "10eecee6",
   "metadata": {},
   "source": [
    "La estratificación fue exitosa, ya que, tanto en el conjunto de entrenamiento como en el de prueba se preservó exactamente la misma distribución de clases que en los datos originales. Esto asegura que los modelos que se entrenen no estarán influenciados por un desbalance artificial introducido en la partición de los datos."
   ]
  },
  {
   "cell_type": "markdown",
   "id": "5f9ad53e",
   "metadata": {},
   "source": [
    "## **Validación cruzada de regresión logística con selección de variables**"
   ]
  },
  {
   "cell_type": "markdown",
   "id": "ea487c6b",
   "metadata": {},
   "source": [
    "Para reducir la dimensionalidad del dataset (155 variables) y trabajar solo con las más relevantes, se aplicó un método de selección univariada basado en la estadística **ANOVA F** (`f_classif`).  \n",
    "\n",
    "Este enfoque mide, para cada variable independiente, cuánto varía su media entre las clases de la variable de salida (`dura_leg_bin`). En otras palabras, el **F-statistic** compara la variabilidad entre grupos (clases 0 y 1) contra la variabilidad interna dentro de cada grupo.  \n",
    "- **Valores altos de F** indican que la variable tiene un mayor poder discriminante entre las clases.  \n",
    "- **p-valores bajos** (cercanos a 0) confirman que la variable está significativamente asociada con la variable objetivo.  "
   ]
  },
  {
   "cell_type": "code",
   "execution_count": 57,
   "id": "779b70e8",
   "metadata": {},
   "outputs": [
    {
     "name": "stdout",
     "output_type": "stream",
     "text": [
      "✅ Top 5 por ANOVA F: ['edad_div1', 'edad_div2', 'hijos', 'pension_4.0', 'cus_hij']\n"
     ]
    },
    {
     "name": "stderr",
     "output_type": "stream",
     "text": [
      "c:\\Users\\luish\\anaconda3\\Lib\\site-packages\\sklearn\\feature_selection\\_univariate_selection.py:111: UserWarning: Features [119] are constant.\n",
      "  warnings.warn(\"Features %s are constant.\" % constant_features_idx, UserWarning)\n",
      "c:\\Users\\luish\\anaconda3\\Lib\\site-packages\\sklearn\\feature_selection\\_univariate_selection.py:112: RuntimeWarning: invalid value encountered in divide\n",
      "  f = msb / msw\n"
     ]
    },
    {
     "data": {
      "text/html": [
       "<div>\n",
       "<style scoped>\n",
       "    .dataframe tbody tr th:only-of-type {\n",
       "        vertical-align: middle;\n",
       "    }\n",
       "\n",
       "    .dataframe tbody tr th {\n",
       "        vertical-align: top;\n",
       "    }\n",
       "\n",
       "    .dataframe thead th {\n",
       "        text-align: right;\n",
       "    }\n",
       "</style>\n",
       "<table border=\"1\" class=\"dataframe\">\n",
       "  <thead>\n",
       "    <tr style=\"text-align: right;\">\n",
       "      <th></th>\n",
       "      <th>feature</th>\n",
       "      <th>F</th>\n",
       "      <th>p</th>\n",
       "    </tr>\n",
       "  </thead>\n",
       "  <tbody>\n",
       "    <tr>\n",
       "      <th>0</th>\n",
       "      <td>edad_div1</td>\n",
       "      <td>85308.234470</td>\n",
       "      <td>0.0</td>\n",
       "    </tr>\n",
       "    <tr>\n",
       "      <th>1</th>\n",
       "      <td>edad_div2</td>\n",
       "      <td>77715.005889</td>\n",
       "      <td>0.0</td>\n",
       "    </tr>\n",
       "    <tr>\n",
       "      <th>2</th>\n",
       "      <td>hijos</td>\n",
       "      <td>15037.877783</td>\n",
       "      <td>0.0</td>\n",
       "    </tr>\n",
       "    <tr>\n",
       "      <th>3</th>\n",
       "      <td>pension_4.0</td>\n",
       "      <td>7376.448396</td>\n",
       "      <td>0.0</td>\n",
       "    </tr>\n",
       "    <tr>\n",
       "      <th>4</th>\n",
       "      <td>cus_hij</td>\n",
       "      <td>6178.448980</td>\n",
       "      <td>0.0</td>\n",
       "    </tr>\n",
       "  </tbody>\n",
       "</table>\n",
       "</div>"
      ],
      "text/plain": [
       "       feature             F    p\n",
       "0    edad_div1  85308.234470  0.0\n",
       "1    edad_div2  77715.005889  0.0\n",
       "2        hijos  15037.877783  0.0\n",
       "3  pension_4.0   7376.448396  0.0\n",
       "4      cus_hij   6178.448980  0.0"
      ]
     },
     "metadata": {},
     "output_type": "display_data"
    }
   ],
   "source": [
    "from sklearn.feature_selection import f_classif\n",
    "\n",
    "\n",
    "F, p = f_classif(x_train, y_train)\n",
    "\n",
    "ranking = (\n",
    "    pd.DataFrame({\"feature\": x_train.columns, \"F\": F, \"p\": p})\n",
    "      .replace([np.inf, -np.inf], np.nan)\n",
    "      .fillna(0.0)\n",
    "      .sort_values(\"F\", ascending=False)\n",
    "      .reset_index(drop=True)\n",
    ")\n",
    "\n",
    "top5 = ranking.head(5)[\"feature\"].tolist()\n",
    "print(\"✅ Top 5 por ANOVA F:\", top5)\n",
    "display(ranking.head(5))\n",
    "\n",
    "x_selected_train = x_train[top5]\n",
    "x_selected_test  = x_test[top5]\n"
   ]
  },
  {
   "cell_type": "markdown",
   "id": "9c33535b",
   "metadata": {},
   "source": [
    "La selección por ANOVA F-statistic es adecuada porque la salida es **binaria (clasificación)** y permite evaluar, de manera eficiente, cuáles predictores numéricos tienen mayor capacidad de distinguir entre matrimonios de duración superior o inferior al promedio. En este caso, variables como las edades al divorcio (`edad_div1`, `edad_div2`) y el número de hijos (`hijos`, `cus_hij`) mostraron una fuerte asociación estadística con la duración legal del matrimonio.  \n",
    "\n",
    "Esto reduce la complejidad del modelo y evita el sobreajuste al trabajar solo con las variables más informativas."
   ]
  },
  {
   "cell_type": "markdown",
   "id": "d4384423",
   "metadata": {},
   "source": [
    "Con las 5 variables seleccionadas (`edad_div1`, `edad_div2`, `hijos`, `pension_4.0`, `cus_hij`) se entrenó un modelo de **Regresión Logística**.  \n",
    "\n",
    "Se utilizó una **validación cruzada estratificada de 10 folds (StratifiedKFold)** para evaluar la estabilidad y el desempeño del modelo en diferentes particiones del conjunto de entrenamiento."
   ]
  },
  {
   "cell_type": "code",
   "execution_count": null,
   "id": "dcdd2949",
   "metadata": {},
   "outputs": [
    {
     "name": "stdout",
     "output_type": "stream",
     "text": [
      "Exactitud por fold: [0.83309398 0.83899793 0.84091272 0.83317377 0.84418382 0.84425118\n",
      " 0.84289476 0.8425756  0.84249581 0.84337349]\n",
      "Exactitud promedio CV: 0.8405953054957729\n"
     ]
    }
   ],
   "source": [
    "import numpy as np\n",
    "from sklearn.linear_model import LogisticRegression\n",
    "from sklearn.model_selection import cross_val_score, StratifiedKFold\n",
    "\n",
    "model = LogisticRegression(\n",
    "    penalty=None,    \n",
    "    class_weight=\"balanced\",\n",
    "    solver=\"lbfgs\",\n",
    "    max_iter=1000\n",
    ")\n",
    "\n",
    "cv = StratifiedKFold(n_splits=10, shuffle=True, random_state=42)\n",
    "scores = cross_val_score(model, x_selected_train, y_train, cv=cv, scoring=\"accuracy\")\n",
    "\n",
    "print(\"Exactitud por fold:\", scores)\n",
    "print(\"Exactitud promedio CV:\", np.mean(scores))\n"
   ]
  },
  {
   "cell_type": "markdown",
   "id": "4ac295db",
   "metadata": {},
   "source": [
    "La validación cruzada permite evaluar el modelo de forma más robusta que un único split de entrenamiento y prueba. Al dividir los datos en 10 partes, en cada iteración el modelo entrena en 9 y valida en la restante, asegurando que **todas las observaciones** sean utilizadas tanto para entrenar como para validar.  \n",
    "\n",
    "El hecho de que las exactitudes por fold sean muy consistentes (con poca variación entre 0.833 y 0.844) sugiere que el modelo es **estable** y no depende de una partición específica de los datos.  \n",
    "\n",
    "El valor promedio de 0.84 indica que, usando únicamente 5 variables seleccionadas por ANOVA F-statistic, la regresión logística logra una **capacidad predictiva aceptable** para diferenciar matrimonios con duración legal superior o inferior al promedio.  "
   ]
  },
  {
   "cell_type": "markdown",
   "id": "b51d06f1",
   "metadata": {},
   "source": [
    "## **Entrenamiento final, predicciones y evaluación con matrices de confusión**"
   ]
  },
  {
   "cell_type": "markdown",
   "id": "e64fab49",
   "metadata": {},
   "source": [
    "Con las 5 variables seleccionadas se entrenó un modelo de **Regresión Logística** usando todo el conjunto de entrenamiento.  \n",
    "\n",
    "Una vez ajustado el modelo, se calcularon dos salidas principales sobre el conjunto de prueba:\n",
    "\n",
    "- **Probabilidades estimadas** de pertenecer a la Clase 0 y a la Clase 1 (`predict_proba`).\n",
    "- **Predicción final de clase** a partir de un umbral estándar de 0.5 (`predict`).  "
   ]
  },
  {
   "cell_type": "code",
   "execution_count": null,
   "id": "2cfd0dab",
   "metadata": {},
   "outputs": [
    {
     "data": {
      "text/html": [
       "<div>\n",
       "<style scoped>\n",
       "    .dataframe tbody tr th:only-of-type {\n",
       "        vertical-align: middle;\n",
       "    }\n",
       "\n",
       "    .dataframe tbody tr th {\n",
       "        vertical-align: top;\n",
       "    }\n",
       "\n",
       "    .dataframe thead th {\n",
       "        text-align: right;\n",
       "    }\n",
       "</style>\n",
       "<table border=\"1\" class=\"dataframe\">\n",
       "  <thead>\n",
       "    <tr style=\"text-align: right;\">\n",
       "      <th></th>\n",
       "      <th>Prob_Clase_0</th>\n",
       "      <th>Prob_Clase_1</th>\n",
       "      <th>Prediccion</th>\n",
       "    </tr>\n",
       "  </thead>\n",
       "  <tbody>\n",
       "    <tr>\n",
       "      <th>3826</th>\n",
       "      <td>0.248738</td>\n",
       "      <td>0.751262</td>\n",
       "      <td>1</td>\n",
       "    </tr>\n",
       "    <tr>\n",
       "      <th>154222</th>\n",
       "      <td>0.000130</td>\n",
       "      <td>0.999870</td>\n",
       "      <td>1</td>\n",
       "    </tr>\n",
       "    <tr>\n",
       "      <th>59348</th>\n",
       "      <td>0.096838</td>\n",
       "      <td>0.903162</td>\n",
       "      <td>1</td>\n",
       "    </tr>\n",
       "    <tr>\n",
       "      <th>44647</th>\n",
       "      <td>0.416781</td>\n",
       "      <td>0.583219</td>\n",
       "      <td>1</td>\n",
       "    </tr>\n",
       "    <tr>\n",
       "      <th>52057</th>\n",
       "      <td>0.208810</td>\n",
       "      <td>0.791190</td>\n",
       "      <td>1</td>\n",
       "    </tr>\n",
       "    <tr>\n",
       "      <th>37840</th>\n",
       "      <td>0.965737</td>\n",
       "      <td>0.034263</td>\n",
       "      <td>0</td>\n",
       "    </tr>\n",
       "    <tr>\n",
       "      <th>45912</th>\n",
       "      <td>0.058295</td>\n",
       "      <td>0.941705</td>\n",
       "      <td>1</td>\n",
       "    </tr>\n",
       "    <tr>\n",
       "      <th>18368</th>\n",
       "      <td>0.024446</td>\n",
       "      <td>0.975554</td>\n",
       "      <td>1</td>\n",
       "    </tr>\n",
       "    <tr>\n",
       "      <th>19483</th>\n",
       "      <td>0.903445</td>\n",
       "      <td>0.096555</td>\n",
       "      <td>0</td>\n",
       "    </tr>\n",
       "    <tr>\n",
       "      <th>105666</th>\n",
       "      <td>0.991944</td>\n",
       "      <td>0.008056</td>\n",
       "      <td>0</td>\n",
       "    </tr>\n",
       "  </tbody>\n",
       "</table>\n",
       "</div>"
      ],
      "text/plain": [
       "        Prob_Clase_0  Prob_Clase_1  Prediccion\n",
       "3826        0.248738      0.751262           1\n",
       "154222      0.000130      0.999870           1\n",
       "59348       0.096838      0.903162           1\n",
       "44647       0.416781      0.583219           1\n",
       "52057       0.208810      0.791190           1\n",
       "37840       0.965737      0.034263           0\n",
       "45912       0.058295      0.941705           1\n",
       "18368       0.024446      0.975554           1\n",
       "19483       0.903445      0.096555           0\n",
       "105666      0.991944      0.008056           0"
      ]
     },
     "execution_count": 81,
     "metadata": {},
     "output_type": "execute_result"
    }
   ],
   "source": [
    "model = LogisticRegression(\n",
    "    penalty=None,\n",
    "    class_weight=\"balanced\",\n",
    "    solver=\"lbfgs\",\n",
    "    max_iter=1000\n",
    ")\n",
    "model.fit(x_selected_train, y_train)\n",
    "\n",
    "probs = model.predict_proba(x_selected_test)\n",
    "preds = model.predict(x_selected_test)\n",
    "\n",
    "results = pd.DataFrame({\n",
    "    \"Prob_Clase_0\": probs[:, 0],\n",
    "    \"Prob_Clase_1\": probs[:, 1],\n",
    "    \"Prediccion\": preds\n",
    "}, index=y_test.index)\n",
    "\n",
    "results.head(10)\n"
   ]
  },
  {
   "cell_type": "markdown",
   "id": "16d9a26a",
   "metadata": {},
   "source": [
    "El modelo entrega para cada observación la probabilidad de pertenecer a cada clase.\n",
    "\n",
    "- Por ejemplo, en el primer caso la probabilidad de Clase 1 es 0.75, superior al umbral de 0.5, por lo que la predicción es **1**.  \n",
    "- En otros casos, como el último registro mostrado, la probabilidad de Clase 1 es solo 0.008, lo que lleva a predecir la Clase **0**.  \n",
    "\n",
    "Este tipo de salida es fundamental porque no solo da la predicción final, sino también el **grado de certeza** del modelo.  \n",
    "\n",
    "En los siguientes pasos se podrá evaluar con mayor detalle cómo varían las métricas del modelo (exactitud, sensibilidad y especificidad) cuando se cambian los **umbrales de decisión** (por defecto 0.5, pero también se probarán valores más bajos y más altos).\n"
   ]
  },
  {
   "cell_type": "markdown",
   "id": "0d79636b",
   "metadata": {},
   "source": [
    "Con las probabilidades `Prob_Clase_1` del modelo, se generaron predicciones para tres umbrales de decisión: **0.3**, **0.5** (estándar) y **0.7**. Para cada umbral se construyó la **matriz de confusión** y se calcularon:\n",
    "- **Exactitud** (`accuracy`)\n",
    "- **Sensibilidad** (`recall` de la clase 1, TPR)\n",
    "- **Especificidad** (`recall` de la clase 0, TNR)"
   ]
  },
  {
   "cell_type": "code",
   "execution_count": 85,
   "id": "fd33cd2c",
   "metadata": {},
   "outputs": [
    {
     "name": "stdout",
     "output_type": "stream",
     "text": [
      "\n",
      "=== Resultados con umbral = 0.3 ===\n"
     ]
    },
    {
     "data": {
      "image/png": "[encoded data removed]",
      "text/plain": [
       "<Figure size 640x480 with 2 Axes>"
      ]
     },
     "metadata": {},
     "output_type": "display_data"
    },
    {
     "name": "stdout",
     "output_type": "stream",
     "text": [
      "Exactitud:     0.815\n",
      "Sensibilidad:  0.918\n",
      "Especificidad: 0.731\n",
      "\n",
      "=== Resultados con umbral = 0.5 ===\n"
     ]
    },
    {
     "data": {
      "image/png": "[encoded data removed]",
      "text/plain": [
       "<Figure size 640x480 with 2 Axes>"
      ]
     },
     "metadata": {},
     "output_type": "display_data"
    },
    {
     "name": "stdout",
     "output_type": "stream",
     "text": [
      "Exactitud:     0.841\n",
      "Sensibilidad:  0.824\n",
      "Especificidad: 0.854\n",
      "\n",
      "=== Resultados con umbral = 0.7 ===\n"
     ]
    },
    {
     "data": {
      "image/png": "[encoded data removed]",
      "text/plain": [
       "<Figure size 640x480 with 2 Axes>"
      ]
     },
     "metadata": {},
     "output_type": "display_data"
    },
    {
     "name": "stdout",
     "output_type": "stream",
     "text": [
      "Exactitud:     0.820\n",
      "Sensibilidad:  0.694\n",
      "Especificidad: 0.923\n"
     ]
    }
   ],
   "source": [
    "import matplotlib.pyplot as plt\n",
    "from sklearn.metrics import ConfusionMatrixDisplay\n",
    "from sklearn.metrics import confusion_matrix, accuracy_score, recall_score\n",
    "\n",
    "# Definir umbrales\n",
    "thresholds = [0.3, 0.5, 0.7]\n",
    "\n",
    "for thr in thresholds:\n",
    "    print(f\"\\n=== Resultados con umbral = {thr} ===\")\n",
    "    \n",
    "    # Generar predicciones según el umbral\n",
    "    preds_thr = (results[\"Prob_Clase_1\"] >= thr).astype(int)\n",
    "    \n",
    "    # Matriz de confusión\n",
    "    cm = confusion_matrix(y_test, preds_thr)\n",
    "    disp = ConfusionMatrixDisplay(cm, display_labels=model.classes_)\n",
    "    disp.plot(xticks_rotation=\"vertical\")\n",
    "    plt.show()\n",
    "    \n",
    "    # Calcular métricas\n",
    "    acc = accuracy_score(y_test, preds_thr)\n",
    "    sens = recall_score(y_test, preds_thr, pos_label=1)   # sensibilidad (TPR)\n",
    "    espec = recall_score(y_test, preds_thr, pos_label=0)  # especificidad (TNR)\n",
    "    \n",
    "    print(f\"Exactitud:     {acc:.3f}\")\n",
    "    print(f\"Sensibilidad:  {sens:.3f}\")\n",
    "    print(f\"Especificidad: {espec:.3f}\")\n"
   ]
  },
  {
   "cell_type": "markdown",
   "id": "f9dd97ec",
   "metadata": {},
   "source": [
    "**Resultados numéricos** *(extraídos de las matrices de confusión impresas)*:\n",
    "\n",
    "| Umbral | TN | FP | FN | TP | Exactitud | Sensibilidad (TPR) | Especificidad (TNR) |\n",
    "|:------:|---:|---:|---:|---:|:---------:|:-------------------:|:-------------------:|\n",
    "| 0.3 | 12,637 | 4,653 | 1,152 | 12,892 | 0.815 | **0.918** | 0.731 |\n",
    "| 0.5 | 14,769 | 2,521 | 2,473 | 11,571 | **0.841** | 0.824 | 0.854 |\n",
    "| 0.7 | 15,957 | 1,333 | 4,295 | 9,749  | 0.820 | 0.694 | **0.923** |"
   ]
  },
  {
   "cell_type": "markdown",
   "id": "dc54c195",
   "metadata": {},
   "source": [
    "\n",
    "> Convención de celdas:  \n",
    "> **TN** = verdaderos negativos (clase 0 bien clasificada)  \n",
    "> **FP** = falsos positivos (predijo 1 pero era 0)  \n",
    "> **FN** = falsos negativos (predijo 0 pero era 1)  \n",
    "> **TP** = verdaderos positivos (clase 1 bien clasificada)"
   ]
  },
  {
   "cell_type": "markdown",
   "id": "aea57cf4",
   "metadata": {},
   "source": [
    "Cuando el umbral se fijó en 0.3, el modelo se volvió más permisivo para declarar que un caso pertenecía a la clase 1. Esto provocó que la sensibilidad subiera hasta 0.918, es decir, se recuperó a casi todos los verdaderos positivos. Sin embargo, la contracara fue que la especificidad descendió a 0.731, ya que el modelo comenzó a confundir con mayor frecuencia a los negativos como positivos, produciendo más falsos positivos. Esta configuración es adecuada si lo más importante es no dejar escapar matrimonios con duración por encima del promedio, aunque ello implique marcar algunos casos de forma incorrecta.\n",
    "\n",
    "En cambio, con un umbral más estricto de 0.7 la dinámica se invierte. La especificidad se elevó hasta 0.923, lo que significa que casi no se clasificaron falsamente como 1 los casos que en realidad eran 0. Sin embargo, la sensibilidad se redujo drásticamente a 0.694, reflejando que el modelo dejó pasar muchos positivos reales sin detectarlos (falsos negativos). Esta situación resulta útil cuando es más grave etiquetar incorrectamente a un 0 como 1 que dejar escapar a varios 1.\n",
    "\n",
    "Finalmente, con el umbral estándar de 0.5, el modelo alcanzó el mejor balance entre ambas métricas. La sensibilidad fue de 0.824 y la especificidad de 0.854, lo que a su vez se reflejó en la exactitud más alta de los tres escenarios (0.841). En este punto se observa un equilibrio: el modelo no es excesivamente permisivo ni demasiado estricto, y mantiene un rendimiento aceptable en ambas direcciones."
   ]
  },
  {
   "cell_type": "markdown",
   "id": "704d76ee",
   "metadata": {},
   "source": [
    "## **Curva ROC y evaluación del área bajo la curva (AUC)**"
   ]
  },
  {
   "cell_type": "markdown",
   "id": "408d41e7",
   "metadata": {},
   "source": [
    "A partir de las probabilidades de clase 1 calculadas por la regresión logística, se construyó la **curva ROC (Receiver Operating Characteristic)**. Esta curva grafica la relación entre la tasa de verdaderos positivos (sensibilidad) y la tasa de falsos positivos (1 − especificidad) a lo largo de todos los posibles valores de umbral de decisión. Además, se calculó el **área bajo la curva (AUC)**, que resume en un solo valor la capacidad discriminativa del modelo.\n"
   ]
  },
  {
   "cell_type": "code",
   "execution_count": 86,
   "id": "09aa304f",
   "metadata": {},
   "outputs": [
    {
     "name": "stdout",
     "output_type": "stream",
     "text": [
      "AUC: 0.923\n"
     ]
    },
    {
     "data": {
      "image/png": "[encoded data removed]",
      "text/plain": [
       "<Figure size 640x480 with 1 Axes>"
      ]
     },
     "metadata": {},
     "output_type": "display_data"
    }
   ],
   "source": [
    "import numpy as np\n",
    "import matplotlib.pyplot as plt\n",
    "from sklearn.metrics import roc_curve, roc_auc_score, RocCurveDisplay\n",
    "\n",
    "# y verdadero y puntajes (probabilidad de clase 1)\n",
    "y_true = y_test.values if hasattr(y_test, \"values\") else y_test\n",
    "y_score = results[\"Prob_Clase_1\"].values  # del DataFrame que ya construiste\n",
    "\n",
    "# Curva ROC\n",
    "fpr, tpr, thresholds = roc_curve(y_true, y_score, pos_label=1)\n",
    "auc_val = roc_auc_score(y_true, y_score)\n",
    "\n",
    "print(f\"AUC: {auc_val:.3f}\")\n",
    "\n",
    "# Gráfica ROC\n",
    "disp = RocCurveDisplay(fpr=fpr, tpr=tpr, roc_auc=auc_val, estimator_name=\"LogReg (5 features)\")\n",
    "disp.plot()  # usa matplotlib por defecto\n",
    "plt.plot([0,1],[0,1], linestyle=\"--\")  # línea de azar (baseline)\n",
    "plt.title(\"Curva ROC - Regresión Logística\")\n",
    "plt.xlabel(\"False Positive Rate (1 - Especificidad)\")\n",
    "plt.ylabel(\"True Positive Rate (Sensibilidad)\")\n",
    "plt.show()\n"
   ]
  },
  {
   "cell_type": "markdown",
   "id": "e1533316",
   "metadata": {},
   "source": [
    "Muestra una trayectoria muy por encima de la diagonal aleatoria (línea naranja), lo que indica que el modelo tiene un poder de discriminación significativo. El valor de AUC fue de **0.92**, lo cual se considera un desempeño sobresaliente en problemas de clasificación: significa que, si se selecciona al azar un caso positivo y un caso negativo, el modelo tiene un 92% de probabilidad de asignar una puntuación más alta al positivo.\n",
    "\n",
    "El hecho de que la curva se mantenga muy cerca del vértice superior izquierdo refleja que el modelo logra mantener una alta sensibilidad sin sacrificar en exceso la especificidad.  \n",
    "\n",
    "El AUC de 0.92 confirma que las 5 variables seleccionadas aportan información suficiente para distinguir con solidez entre matrimonios de duración mayor o menor al promedio. En términos prácticos, significa que el modelo tiene un desempeño confiable y que puede adaptarse a distintos escenarios, esto dependiendo de cómo se priorice el balance entre falsos positivos y falsos negativos. La curva ROC, si bien, no solo valida la calidad del modelo, si ofrece una herramienta para elegir el umbral óptimo según las necesidades específicas del análisis."
   ]
  },
  {
   "cell_type": "markdown",
   "id": "73cb055a",
   "metadata": {},
   "source": [
    "# **VII. Bibliografía**"
   ]
  },
  {
   "cell_type": "markdown",
   "id": "780939d3",
   "metadata": {},
   "source": [
    "Instituto Nacional de Estadística y Geografía. (2023). Estadísticas de divorcios, 2023 [Conjunto de datos]. INEGI. https://www.inegi.org.mx/app/descarga/ficha.html?tit=2340795&ag=0&f=csv"
   ]
  }
 ],
 "metadata": {
  "kernelspec": {
   "display_name": "base",
   "language": "python",
   "name": "python3"
  },
  "language_info": {
   "codemirror_mode": {
    "name": "ipython",
    "version": 3
   },
   "file_extension": ".py",
   "mimetype": "text/x-python",
   "name": "python",
   "nbconvert_exporter": "python",
   "pygments_lexer": "ipython3",
   "version": "3.13.5"
  }
 },
 "nbformat": 4,
 "nbformat_minor": 5
}
